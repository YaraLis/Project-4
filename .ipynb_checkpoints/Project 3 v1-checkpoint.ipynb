{
 "cells": [
  {
   "cell_type": "code",
   "execution_count": null,
   "id": "7c91f45b",
   "metadata": {},
   "outputs": [],
   "source": [
    "import requests\n",
    "from bs4 import BeautifulSoup\n",
    "\n",
    "import pandas as pd\n",
    "\n"
   ]
  },
  {
   "cell_type": "markdown",
   "id": "2d93d8bd",
   "metadata": {},
   "source": [
    "HEEEELLLOOO Yara looks beautiful today"
   ]
  },
  {
   "cell_type": "code",
   "execution_count": 7,
   "id": "d83b06e1",
   "metadata": {},
   "outputs": [
    {
     "data": {
      "text/plain": [
       "200"
      ]
     },
     "execution_count": 7,
     "metadata": {},
     "output_type": "execute_result"
    }
   ],
   "source": [
    "import requests\n",
    "\n",
    "headers = {\"user-agent\":\"Mozilla/5.0 (Windows NT 10.0; Win64; x64) AppleWebKit/537.36 (KHTML, like Gecko) Chrome/118.0.0.0 Safari/537.36\"}\n",
    "\n",
    "r = requests.get(\"https://suchen.mobile.de/auto/audi-100.html\", headers = headers)\n",
    "r.status_code\n"
   ]
  },
  {
   "cell_type": "code",
   "execution_count": 11,
   "id": "53697802",
   "metadata": {},
   "outputs": [
    {
     "data": {
      "text/plain": [
       "b'<!DOCTYPE html PUBLIC \"-//W3C//DTD HTML 4.01//EN\" \"http://www.w3.org/TR/html4/strict.dtd\">\\n<html>\\n<head>\\n  <meta http-equiv=\"Content-Type\" content=\"text/html; charset=utf-8\">\\n  <meta http-equiv=\"Content-Style-Type\" content=\"text/css\">\\n  <title></title>\\n  <meta name=\"Generator\" content=\"Cocoa HTML Writer\">\\n  <meta name=\"CocoaVersion\" content=\"2113.6\">\\n  <style type=\"text/css\">\\n    p.p2 {margin: 0.0px 0.0px 0.0px 0.0px; font: 12.0px Courier; color: #000000; -webkit-text-stroke: #000000}\\n    p.p3 {margin: 0.0px 0.0px 0.0px 0.0px; font: 12.0px Courier; color: #000000; -webkit-text-stroke: #000000; min-height: 14.0px}\\n    span.s1 {font-kerning: none}\\n  </style>\\n</head>\\n<body>\\n<h1 style=\"margin: 0.0px 0.0px 16.1px 0.0px; font: 24.0px Times; color: #000000; -webkit-text-stroke: #000000\"><span class=\"s1\"><b>Zugriff verweigert / Access denied</b></span></h1>\\n<p class=\"p2\"><span class=\"s1\">Reference Error: 0.e26d655f.1698141567.d4ee5e</span></p>\\n<p class=\"p3\"><span class=\"s1\"></span><br></p>\\n<p class=\"p2\"><span class=\"s1\">Leider koennen wir Ihnen an dieser Stelle keinen Zugriff auf unsere Daten gewaehren.</span></p>\\n<p class=\"p2\"><span class=\"s1\">Sollten Sie weiterhin Interesse an einem Bezug unserer Daten haben, wenden sie sich bitte an:</span></p>\\n<p class=\"p3\"><span class=\"s1\"></span><br></p>\\n<p class=\"p2\"><span class=\"s1\">Unfortunately, automated access to this page was denied.</span></p>\\n<p class=\"p2\"><span class=\"s1\">If you are interested in accessing our data, please contact:</span></p>\\n<p class=\"p3\"><span class=\"s1\"></span><br></p>\\n<p class=\"p2\"><span class=\"s1\">Phone (Montag bis Freitag von 8:00 bis 18:00 Uhr):</span></p>\\n<p class=\"p2\"><span class=\"s1\"><span class=\"Apple-converted-space\">\\xc2\\xa0</span>*Private Nutzer und gewerbliche Anbieter: +49 (0) 30 81097-601</span></p>\\n<p class=\"p2\"><span class=\"s1\"><span class=\"Apple-converted-space\">\\xc2\\xa0</span>*H\\xc3\\x83\\xc2\\xa4ndler: +49 (0) 30 81097-500</span></p>\\n<p class=\"p3\"><span class=\"s1\"></span><br></p>\\n<p class=\"p2\"><span class=\"s1\">Mail: service@team.mobile.de</span></p>\\n<p class=\"p3\"><span class=\"s1\"></span><br></p>\\n<p class=\"p2\"><span class=\"s1\">mobile.de GmbH</span></p>\\n<p class=\"p2\"><span class=\"s1\">Albert-Einstein-Ring 26 | 14532 Kleinmachnow | Germany</span></p>\\n<p class=\"p3\"><span class=\"s1\"></span><br></p>\\n<p class=\"p2\"><span class=\"s1\">Geschaeftsfuehrer: Ajay Bhatia</span></p>\\n<p class=\"p2\"><span class=\"s1\">HRB\\xc3\\xa2\\xe2\\x82\\xac\\xe2\\x80\\x98Nr.: 18517 P, Amtsgericht Potsdam</span></p>\\n<p class=\"p2\"><span class=\"s1\">Sitz der Gesellschaft: Kleinmachnow</span></p>\\n<p class=\"p3\"><span class=\"s1\"></span><br></p>\\n<p class=\"p3\"><span class=\"s1\"></span><br></p>\\n<p class=\"p3\"><span class=\"s1\"></span><br></p>\\n</body>\\n</html>\\n'"
      ]
     },
     "execution_count": 11,
     "metadata": {},
     "output_type": "execute_result"
    }
   ],
   "source": [
    "response.content"
   ]
  },
  {
   "cell_type": "code",
   "execution_count": 14,
   "id": "5bf020b4",
   "metadata": {},
   "outputs": [
    {
     "data": {
      "text/plain": [
       "bs4.BeautifulSoup"
      ]
     },
     "execution_count": 14,
     "metadata": {},
     "output_type": "execute_result"
    }
   ],
   "source": [
    "soup=BeautifulSoup(response.content)\n",
    "type(soup)"
   ]
  },
  {
   "cell_type": "code",
   "execution_count": 15,
   "id": "0b1abfe9",
   "metadata": {},
   "outputs": [
    {
     "data": {
      "text/plain": [
       "<!DOCTYPE html PUBLIC \"-//W3C//DTD HTML 4.01//EN\" \"http://www.w3.org/TR/html4/strict.dtd\">\n",
       "<html>\n",
       "<head>\n",
       "<meta content=\"text/html; charset=utf-8\" http-equiv=\"Content-Type\"/>\n",
       "<meta content=\"text/css\" http-equiv=\"Content-Style-Type\"/>\n",
       "<title></title>\n",
       "<meta content=\"Cocoa HTML Writer\" name=\"Generator\"/>\n",
       "<meta content=\"2113.6\" name=\"CocoaVersion\"/>\n",
       "<style type=\"text/css\">\n",
       "    p.p2 {margin: 0.0px 0.0px 0.0px 0.0px; font: 12.0px Courier; color: #000000; -webkit-text-stroke: #000000}\n",
       "    p.p3 {margin: 0.0px 0.0px 0.0px 0.0px; font: 12.0px Courier; color: #000000; -webkit-text-stroke: #000000; min-height: 14.0px}\n",
       "    span.s1 {font-kerning: none}\n",
       "  </style>\n",
       "</head>\n",
       "<body>\n",
       "<h1 style=\"margin: 0.0px 0.0px 16.1px 0.0px; font: 24.0px Times; color: #000000; -webkit-text-stroke: #000000\"><span class=\"s1\"><b>Zugriff verweigert / Access denied</b></span></h1>\n",
       "<p class=\"p2\"><span class=\"s1\">Reference Error: 0.e26d655f.1698141567.d4ee5e</span></p>\n",
       "<p class=\"p3\"><span class=\"s1\"></span><br/></p>\n",
       "<p class=\"p2\"><span class=\"s1\">Leider koennen wir Ihnen an dieser Stelle keinen Zugriff auf unsere Daten gewaehren.</span></p>\n",
       "<p class=\"p2\"><span class=\"s1\">Sollten Sie weiterhin Interesse an einem Bezug unserer Daten haben, wenden sie sich bitte an:</span></p>\n",
       "<p class=\"p3\"><span class=\"s1\"></span><br/></p>\n",
       "<p class=\"p2\"><span class=\"s1\">Unfortunately, automated access to this page was denied.</span></p>\n",
       "<p class=\"p2\"><span class=\"s1\">If you are interested in accessing our data, please contact:</span></p>\n",
       "<p class=\"p3\"><span class=\"s1\"></span><br/></p>\n",
       "<p class=\"p2\"><span class=\"s1\">Phone (Montag bis Freitag von 8:00 bis 18:00 Uhr):</span></p>\n",
       "<p class=\"p2\"><span class=\"s1\"><span class=\"Apple-converted-space\"> </span>*Private Nutzer und gewerbliche Anbieter: +49 (0) 30 81097-601</span></p>\n",
       "<p class=\"p2\"><span class=\"s1\"><span class=\"Apple-converted-space\"> </span>*HÃ¤ndler: +49 (0) 30 81097-500</span></p>\n",
       "<p class=\"p3\"><span class=\"s1\"></span><br/></p>\n",
       "<p class=\"p2\"><span class=\"s1\">Mail: service@team.mobile.de</span></p>\n",
       "<p class=\"p3\"><span class=\"s1\"></span><br/></p>\n",
       "<p class=\"p2\"><span class=\"s1\">mobile.de GmbH</span></p>\n",
       "<p class=\"p2\"><span class=\"s1\">Albert-Einstein-Ring 26 | 14532 Kleinmachnow | Germany</span></p>\n",
       "<p class=\"p3\"><span class=\"s1\"></span><br/></p>\n",
       "<p class=\"p2\"><span class=\"s1\">Geschaeftsfuehrer: Ajay Bhatia</span></p>\n",
       "<p class=\"p2\"><span class=\"s1\">HRBâ€‘Nr.: 18517 P, Amtsgericht Potsdam</span></p>\n",
       "<p class=\"p2\"><span class=\"s1\">Sitz der Gesellschaft: Kleinmachnow</span></p>\n",
       "<p class=\"p3\"><span class=\"s1\"></span><br/></p>\n",
       "<p class=\"p3\"><span class=\"s1\"></span><br/></p>\n",
       "<p class=\"p3\"><span class=\"s1\"></span><br/></p>\n",
       "</body>\n",
       "</html>"
      ]
     },
     "execution_count": 15,
     "metadata": {},
     "output_type": "execute_result"
    }
   ],
   "source": [
    "soup"
   ]
  },
  {
   "cell_type": "code",
   "execution_count": null,
   "id": "a48cd06d",
   "metadata": {},
   "outputs": [],
   "source": [
    "#key-feature key-feature--firstRegistration \n",
    "#key-feature key-feature--firstRegistration\n",
    "\n"
   ]
  }
 ],
 "metadata": {
  "kernelspec": {
   "display_name": "Python 3 (ipykernel)",
   "language": "python",
   "name": "python3"
  },
  "language_info": {
   "codemirror_mode": {
    "name": "ipython",
    "version": 3
   },
   "file_extension": ".py",
   "mimetype": "text/x-python",
   "name": "python",
   "nbconvert_exporter": "python",
   "pygments_lexer": "ipython3",
   "version": "3.11.4"
  }
 },
 "nbformat": 4,
 "nbformat_minor": 5
}
